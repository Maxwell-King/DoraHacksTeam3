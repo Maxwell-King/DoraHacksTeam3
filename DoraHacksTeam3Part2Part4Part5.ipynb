{
 "cells": [
  {
   "cell_type": "code",
   "execution_count": 42,
   "metadata": {},
   "outputs": [],
   "source": [
    "import numpy as np\n",
    "import scipy\n",
    "from scipy.linalg import toeplitz\n",
    "\n",
    "def postprocess(m, n, b):\n",
    "    extraction_percent = n / m\n",
    "    c = np.random.randint(0, 2, m)\n",
    "    r = np.random.randint(0, 2, n)\n",
    "    \n",
    "    T = np.array(toeplitz(c, r))\n",
    "    out = np.zeros(m)\n",
    "    running = np.zeros(n)\n",
    "    \n",
    "    for i in range(m):\n",
    "        for j in range(n):\n",
    "            running[j] = b[j] and T[i, j]\n",
    "            if j > 0:\n",
    "                running[j] = bool(running[j-1]) ^ bool(running[j])\n",
    "            else:\n",
    "                continue\n",
    "        out[i] = int(running[n-1])\n",
    "    \n",
    "    return out"
   ]
  },
  {
   "cell_type": "code",
   "execution_count": 43,
   "metadata": {},
   "outputs": [],
   "source": [
    "from scipy.special import erfc\n",
    "def monobit(b,n):\n",
    "    b_str = str(b)\n",
    "    sum = 0\n",
    "    for x in range(1,len(b_str)):\n",
    "        if b_str[x] == 1:\n",
    "            sum += 1\n",
    "        else:\n",
    "            sum -= 1\n",
    "    sobs = abs(sum)/sqrt(n)\n",
    "    print(erfc(sobs/sqrt(2)))"
   ]
  },
  {
   "cell_type": "code",
   "execution_count": 44,
   "metadata": {
    "editable": true,
    "slideshow": {
     "slide_type": ""
    },
    "tags": []
   },
   "outputs": [],
   "source": [
    "# Importing the required libraries (install in your environment first)\n",
    "import numpy as np\n",
    "import pandas as pd\n",
    "from math import log2, sqrt\n",
    "\n",
    "# Read in data from your datafile or the provided datafile in this folder to classify QRNG data. \n",
    "# Suggested classification strategies include QRNG vs PRNG, QPU vs Simulator, or by individual QPU\n",
    "\n",
    "#Sample datafile of QRNG (IBM QPUs) vs PRNG data, 12k lines each. Label 1 is QRNG, label 2 is PRNG\n",
    "data_filePath = 'QRNGvsPRNG_TrainingData.txt'\n",
    "\n",
    "rng_td = pd.read_table(data_filePath, sep=\"\\s+\", header=None)\n",
    "rng_td.columns =['binary', 'source']\n",
    "rng_td_nocat = rng_td.copy(deep='true')\n",
    "rng_features = pd.DataFrame(rng_td['binary'].apply(list).tolist())\n",
    "rng_td = pd.concat([rng_td.drop(columns='binary'), rng_features], axis=1)\n"
   ]
  },
  {
   "cell_type": "code",
   "execution_count": 96,
   "metadata": {},
   "outputs": [
    {
     "name": "stdout",
     "output_type": "stream",
     "text": [
      "Gradient Boosting Accuracy:  0.5214583333333334\n"
     ]
    }
   ],
   "source": [
    "from sklearn.neural_network import MLPClassifier\n",
    "from sklearn.model_selection import train_test_split\n",
    "from sklearn.preprocessing import normalize\n",
    "from sklearn.metrics import accuracy_score\n",
    "from sklearn.ensemble import GradientBoostingClassifier\n",
    "\n",
    "X = rng_td.drop(columns='source').values\n",
    "y = rng_td['source'].values\n",
    "X = normalize(X)\n",
    "X_train, X_test, y_train, y_test = train_test_split(\n",
    "    X, y, test_size=0.2, random_state=42)\n",
    "\n",
    "gb_model = GradientBoostingClassifier(random_state=42)\n",
    "\n",
    "# Train the model. Define X_train and y_train from your training dataframe using \n",
    "# sklearns train_test_split method\n",
    "gb_model.fit(X_train, y_train)\n",
    "\n",
    "# Make predictions on the test set\n",
    "y_pred_gb = gb_model.predict(X_test)\n",
    "\n",
    "# Calculate the accuracy of the Gradient Boosting model\n",
    "accuracy_gb = accuracy_score(y_test, y_pred_gb)\n",
    "print(\"Gradient Boosting Accuracy: \", accuracy_gb)\n"
   ]
  },
  {
   "cell_type": "code",
   "execution_count": 97,
   "metadata": {},
   "outputs": [
    {
     "name": "stdout",
     "output_type": "stream",
     "text": [
      "Gradient Boosting Accuracy:  0.54\n"
     ]
    }
   ],
   "source": [
    "data_filePath2 = '100 qubits QRNG Output_Training Data.txt'\n",
    "rng2_td = pd.read_table(data_filePath2, sep=\"\\s+\", header=None)\n",
    "\n",
    "rng2_features = pd.DataFrame(rng2_td.loc[0].apply(list).tolist())\n",
    "\n",
    "y_pred2_gb = gb_model.predict(rng2_features.to_numpy())\n",
    "\n",
    "# Calculate the accuracy of the Gradient Boosting model\n",
    "accuracy2_gb = accuracy_score(np.ones(100), y_pred2_gb)\n",
    "print(\"Gradient Boosting Accuracy: \", accuracy2_gb)"
   ]
  },
  {
   "cell_type": "code",
   "execution_count": 223,
   "metadata": {},
   "outputs": [],
   "source": [
    "from qiskit import QuantumCircuit, transpile\n",
    "HGateCircuit = QuantumCircuit(8)\n",
    "def transmit(A,GA):\n",
    "    for i in range(8):\n",
    "        if(GA[i] == 0): #B[i] = 0, measure in z, B[i] = 1, measure in x\n",
    "            if A[i] == 0:\n",
    "                HGateCircuit.h(i);    \n",
    "#BB84\n",
    "#a: (4 + δ)n, b: (4 + δ)n\n",
    "A = np.random.randint(0, 2, 8) #PRNG\n",
    "GA = np.random.randint(0, 2, 8) #PRNG\n",
    "B = np.random.randint(0, 2, 8) #PRNG\n",
    "GB = np.random.randint(0, 2, 8) #PRNG\n",
    "transmit(A,GA)\n",
    "transmit(B,GB)\n"
   ]
  },
  {
   "cell_type": "code",
   "execution_count": 139,
   "metadata": {},
   "outputs": [],
   "source": [
    "def calculate_max_entropy(bit_string):\n",
    "    probabilities = np.bincount([int(bit) for bit in bit_string]) / len(bit_string)\n",
    "    entropy = -np.sum([p * np.log2(p) for p in probabilities if p > 0])\n",
    "    return entropy"
   ]
  },
  {
   "cell_type": "code",
   "execution_count": 140,
   "metadata": {},
   "outputs": [],
   "source": [
    "def calculate_min_entropy(bit_string):\n",
    "    probabilities = np.bincount([int(bit) for bit in bit_string]) / len(bit_string)\n",
    "    maxp = np.max(probabilities)\n",
    "    min_entropy = - np.log2(maxp)\n",
    "    return min_entropy"
   ]
  },
  {
   "cell_type": "code",
   "execution_count": null,
   "metadata": {},
   "outputs": [],
   "source": []
  }
 ],
 "metadata": {
  "kernelspec": {
   "display_name": "Python 3 [Tensorflow]",
   "language": "python",
   "name": "python3_tensorflow_uorhf3"
  },
  "language_info": {
   "codemirror_mode": {
    "name": "ipython",
    "version": 3
   },
   "file_extension": ".py",
   "mimetype": "text/x-python",
   "name": "python",
   "nbconvert_exporter": "python",
   "pygments_lexer": "ipython3",
   "version": "3.9.20"
  }
 },
 "nbformat": 4,
 "nbformat_minor": 4
}
